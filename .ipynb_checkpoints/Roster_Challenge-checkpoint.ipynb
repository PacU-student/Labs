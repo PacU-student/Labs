{
 "cells": [
  {
   "cell_type": "code",
   "execution_count": 11,
   "metadata": {},
   "outputs": [
    {
     "name": "stdout",
     "output_type": "stream",
     "text": [
      "\n",
      "Team: 1\n",
      "Asela Chandrasinghe\n",
      "William Willmon\n",
      "\n",
      "Team: 2\n",
      "Eric Levally\n",
      "Adrian Martin\n",
      "\n",
      "Team: 3\n",
      "Johan Rosqvist\n",
      "Dannie Wright\n"
     ]
    }
   ],
   "source": [
    "#Make a \n",
    "import random\n",
    "#\n",
    "\n",
    "def make_teams(students,case=1):\n",
    "    '''\n",
    "    '''\n",
    "    \n",
    "    if case == 1: \n",
    "        for name in students:\n",
    "            print(name)\n",
    "            \n",
    "    elif case == 2:\n",
    "        count = 0\n",
    "        random.shuffle(students)\n",
    "        for name in students:\n",
    "            if count%2 == 0:\n",
    "                print(\"\")\n",
    "                print(\"Team: %d\"%(count/2+1))\n",
    "            print(name[0]+\" \"+name[1])\n",
    "            count += 1\n",
    "        \n",
    "#roster    \n",
    "student_list=[[\"Adrian\",\"Martin\"],[\"Eric\",\"Levally\"],[\"Johan\",\"Rosqvist\"],[\"Asela\",\"Chandrasinghe\"],[\"William\",\"Willmon\"],[\"Dannie\",\"Wright\"]]\n",
    "\n",
    "if __name__ == \"__main__\":\n",
    "    \n",
    "    #make_teams(student_list)\n",
    "    make_teams(student_list, case=2)"
   ]
  },
  {
   "cell_type": "code",
   "execution_count": null,
   "metadata": {
    "collapsed": true
   },
   "outputs": [],
   "source": []
  }
 ],
 "metadata": {
  "kernelspec": {
   "display_name": "Python 3",
   "language": "python",
   "name": "python3"
  },
  "language_info": {
   "codemirror_mode": {
    "name": "ipython",
    "version": 3
   },
   "file_extension": ".py",
   "mimetype": "text/x-python",
   "name": "python",
   "nbconvert_exporter": "python",
   "pygments_lexer": "ipython3",
   "version": "3.6.3"
  }
 },
 "nbformat": 4,
 "nbformat_minor": 2
}
