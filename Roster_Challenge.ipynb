{
 "cells": [
  {
   "cell_type": "code",
   "execution_count": 2,
   "metadata": {},
   "outputs": [
    {
     "name": "stdout",
     "output_type": "stream",
     "text": [
      "['Adrian', 'Martin']\n",
      "['Eric', 'Levally']\n",
      "['Johan', '']\n",
      "['Asela', '']\n",
      "['William', '']\n"
     ]
    }
   ],
   "source": [
    "#roster\n",
    "def make_teams(students):\n",
    "    \n",
    "    for name in students:\n",
    "        print(name)\n",
    "    \n",
    "student_list=[[\"Adrian\",\"Martin\"],[\"Eric\",\"Levally\"],[\"Johan\",\"\"],[\"Asela\",\"\"],[\"William\",\"\"]]\n",
    "\n",
    "if __name__ == \"__main__\":\n",
    "    \n",
    "    make_teams(student_list)"
   ]
  },
  {
   "cell_type": "code",
   "execution_count": null,
   "metadata": {
    "collapsed": true
   },
   "outputs": [],
   "source": []
  }
 ],
 "metadata": {
  "kernelspec": {
   "display_name": "Python 3",
   "language": "python",
   "name": "python3"
  },
  "language_info": {
   "codemirror_mode": {
    "name": "ipython",
    "version": 3
   },
   "file_extension": ".py",
   "mimetype": "text/x-python",
   "name": "python",
   "nbconvert_exporter": "python",
   "pygments_lexer": "ipython3",
   "version": "3.4.5"
  }
 },
 "nbformat": 4,
 "nbformat_minor": 2
}
